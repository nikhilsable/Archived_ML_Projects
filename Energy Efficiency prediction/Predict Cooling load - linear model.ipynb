{
 "cells": [
  {
   "cell_type": "code",
   "execution_count": 1,
   "metadata": {
    "collapsed": true
   },
   "outputs": [],
   "source": [
    "import pandas as pd"
   ]
  },
  {
   "cell_type": "code",
   "execution_count": 2,
   "metadata": {
    "collapsed": true
   },
   "outputs": [],
   "source": [
    "data = pd.read_csv('EnergyEfficiencyData2012_data.csv')"
   ]
  },
  {
   "cell_type": "markdown",
   "metadata": {},
   "source": [
    "The dataset contains eight attributes (or features, denoted by X1...X8) and two responses (or outcomes, denoted by y1 and y2). The aim is to use the eight features to predict each of the two responses. \n",
    "\n",
    "Specifically: \n",
    "X1\tRelative Compactness \n",
    "\n",
    "X2\tSurface Area \n",
    "X3\tWall Area \n",
    "X4\tRoof Area \n",
    "X5\tOverall Height \n",
    "X6\tOrientation \n",
    "X7\tGlazing Area \n",
    "X8\tGlazing Area Distribution \n",
    "y1\tHeating Load \n",
    "y2\tCooling Load\n",
    "\n",
    "http://archive.ics.uci.edu/ml/datasets/Energy+efficiency"
   ]
  },
  {
   "cell_type": "code",
   "execution_count": 19,
   "metadata": {},
   "outputs": [
    {
     "data": {
      "text/html": [
       "<div>\n",
       "<style>\n",
       "    .dataframe thead tr:only-child th {\n",
       "        text-align: right;\n",
       "    }\n",
       "\n",
       "    .dataframe thead th {\n",
       "        text-align: left;\n",
       "    }\n",
       "\n",
       "    .dataframe tbody tr th {\n",
       "        vertical-align: top;\n",
       "    }\n",
       "</style>\n",
       "<table border=\"1\" class=\"dataframe\">\n",
       "  <thead>\n",
       "    <tr style=\"text-align: right;\">\n",
       "      <th></th>\n",
       "      <th>X1</th>\n",
       "      <th>X2</th>\n",
       "      <th>X3</th>\n",
       "      <th>X4</th>\n",
       "      <th>X5</th>\n",
       "      <th>X6</th>\n",
       "      <th>X7</th>\n",
       "      <th>X8</th>\n",
       "      <th>Y2</th>\n",
       "    </tr>\n",
       "  </thead>\n",
       "  <tbody>\n",
       "    <tr>\n",
       "      <th>0</th>\n",
       "      <td>0.98</td>\n",
       "      <td>514.5</td>\n",
       "      <td>294.0</td>\n",
       "      <td>110.25</td>\n",
       "      <td>7.0</td>\n",
       "      <td>2.0</td>\n",
       "      <td>0.0</td>\n",
       "      <td>0.0</td>\n",
       "      <td>21.33</td>\n",
       "    </tr>\n",
       "    <tr>\n",
       "      <th>1</th>\n",
       "      <td>0.98</td>\n",
       "      <td>514.5</td>\n",
       "      <td>294.0</td>\n",
       "      <td>110.25</td>\n",
       "      <td>7.0</td>\n",
       "      <td>3.0</td>\n",
       "      <td>0.0</td>\n",
       "      <td>0.0</td>\n",
       "      <td>21.33</td>\n",
       "    </tr>\n",
       "    <tr>\n",
       "      <th>2</th>\n",
       "      <td>0.98</td>\n",
       "      <td>514.5</td>\n",
       "      <td>294.0</td>\n",
       "      <td>110.25</td>\n",
       "      <td>7.0</td>\n",
       "      <td>4.0</td>\n",
       "      <td>0.0</td>\n",
       "      <td>0.0</td>\n",
       "      <td>21.33</td>\n",
       "    </tr>\n",
       "    <tr>\n",
       "      <th>3</th>\n",
       "      <td>0.98</td>\n",
       "      <td>514.5</td>\n",
       "      <td>294.0</td>\n",
       "      <td>110.25</td>\n",
       "      <td>7.0</td>\n",
       "      <td>5.0</td>\n",
       "      <td>0.0</td>\n",
       "      <td>0.0</td>\n",
       "      <td>21.33</td>\n",
       "    </tr>\n",
       "    <tr>\n",
       "      <th>4</th>\n",
       "      <td>0.90</td>\n",
       "      <td>563.5</td>\n",
       "      <td>318.5</td>\n",
       "      <td>122.50</td>\n",
       "      <td>7.0</td>\n",
       "      <td>2.0</td>\n",
       "      <td>0.0</td>\n",
       "      <td>0.0</td>\n",
       "      <td>28.28</td>\n",
       "    </tr>\n",
       "  </tbody>\n",
       "</table>\n",
       "</div>"
      ],
      "text/plain": [
       "     X1     X2     X3      X4   X5   X6   X7   X8     Y2\n",
       "0  0.98  514.5  294.0  110.25  7.0  2.0  0.0  0.0  21.33\n",
       "1  0.98  514.5  294.0  110.25  7.0  3.0  0.0  0.0  21.33\n",
       "2  0.98  514.5  294.0  110.25  7.0  4.0  0.0  0.0  21.33\n",
       "3  0.98  514.5  294.0  110.25  7.0  5.0  0.0  0.0  21.33\n",
       "4  0.90  563.5  318.5  122.50  7.0  2.0  0.0  0.0  28.28"
      ]
     },
     "execution_count": 19,
     "metadata": {},
     "output_type": "execute_result"
    }
   ],
   "source": [
    "data.head()"
   ]
  },
  {
   "cell_type": "code",
   "execution_count": 20,
   "metadata": {
    "collapsed": true
   },
   "outputs": [],
   "source": [
    "data = data[['X1',\n",
    " 'X2',\n",
    " 'X3',\n",
    " 'X4',\n",
    " 'X5',\n",
    " 'X6',\n",
    " 'X7',\n",
    " 'X8',\n",
    " 'Y2']]"
   ]
  },
  {
   "cell_type": "code",
   "execution_count": 21,
   "metadata": {},
   "outputs": [
    {
     "data": {
      "text/plain": [
       "<seaborn.axisgrid.PairGrid at 0x11e036748>"
      ]
     },
     "execution_count": 21,
     "metadata": {},
     "output_type": "execute_result"
    },
    {
     "data": {
      "image/png": "[encoded data removed]",
      "text/plain": [
       "<matplotlib.figure.Figure at 0x11e0362e8>"
      ]
     },
     "metadata": {},
     "output_type": "display_data"
    }
   ],
   "source": [
    "# Y2 = Cooling load (Y2 is the response tha twe are aiming to predict with our linear model)\n",
    "import seaborn as sns\n",
    "%matplotlib inline\n",
    "\n",
    "sns.pairplot(data, x_vars = ['X1',\n",
    " 'X2',\n",
    " 'X3',\n",
    " 'X4',\n",
    " 'X5',\n",
    " 'X6',\n",
    " 'X7',\n",
    " 'X8'], y_vars = 'Y2', kind = 'reg' )"
   ]
  },
  {
   "cell_type": "code",
   "execution_count": 74,
   "metadata": {
    "collapsed": true
   },
   "outputs": [],
   "source": [
    "X = data[['X1',\n",
    " 'X2',\n",
    " 'X3',\n",
    " 'X4',\n",
    " 'X5',\n",
    " 'X6',\n",
    " 'X7',\n",
    " 'X8']]\n",
    "\n",
    "y = data['Y2']\n",
    "\n",
    "y = y.loc[:767]"
   ]
  },
  {
   "cell_type": "code",
   "execution_count": 75,
   "metadata": {
    "collapsed": true
   },
   "outputs": [],
   "source": [
    "X.loc[767] #All Null vales after the 767th row\n",
    "X = X.loc[:767]"
   ]
  },
  {
   "cell_type": "code",
   "execution_count": 76,
   "metadata": {},
   "outputs": [
    {
     "name": "stdout",
     "output_type": "stream",
     "text": [
      "(768, 8)\n",
      "(768,)\n"
     ]
    }
   ],
   "source": [
    "print(X.shape)\n",
    "print(y.shape)\n"
   ]
  },
  {
   "cell_type": "code",
   "execution_count": 77,
   "metadata": {},
   "outputs": [
    {
     "data": {
      "text/html": [
       "<div>\n",
       "<style>\n",
       "    .dataframe thead tr:only-child th {\n",
       "        text-align: right;\n",
       "    }\n",
       "\n",
       "    .dataframe thead th {\n",
       "        text-align: left;\n",
       "    }\n",
       "\n",
       "    .dataframe tbody tr th {\n",
       "        vertical-align: top;\n",
       "    }\n",
       "</style>\n",
       "<table border=\"1\" class=\"dataframe\">\n",
       "  <thead>\n",
       "    <tr style=\"text-align: right;\">\n",
       "      <th></th>\n",
       "      <th>X1</th>\n",
       "      <th>X2</th>\n",
       "      <th>X3</th>\n",
       "      <th>X4</th>\n",
       "      <th>X5</th>\n",
       "      <th>X6</th>\n",
       "      <th>X7</th>\n",
       "      <th>X8</th>\n",
       "    </tr>\n",
       "  </thead>\n",
       "  <tbody>\n",
       "    <tr>\n",
       "      <th>763</th>\n",
       "      <td>0.64</td>\n",
       "      <td>784.0</td>\n",
       "      <td>343.0</td>\n",
       "      <td>220.5</td>\n",
       "      <td>3.5</td>\n",
       "      <td>5.0</td>\n",
       "      <td>0.4</td>\n",
       "      <td>5.0</td>\n",
       "    </tr>\n",
       "    <tr>\n",
       "      <th>764</th>\n",
       "      <td>0.62</td>\n",
       "      <td>808.5</td>\n",
       "      <td>367.5</td>\n",
       "      <td>220.5</td>\n",
       "      <td>3.5</td>\n",
       "      <td>2.0</td>\n",
       "      <td>0.4</td>\n",
       "      <td>5.0</td>\n",
       "    </tr>\n",
       "    <tr>\n",
       "      <th>765</th>\n",
       "      <td>0.62</td>\n",
       "      <td>808.5</td>\n",
       "      <td>367.5</td>\n",
       "      <td>220.5</td>\n",
       "      <td>3.5</td>\n",
       "      <td>3.0</td>\n",
       "      <td>0.4</td>\n",
       "      <td>5.0</td>\n",
       "    </tr>\n",
       "    <tr>\n",
       "      <th>766</th>\n",
       "      <td>0.62</td>\n",
       "      <td>808.5</td>\n",
       "      <td>367.5</td>\n",
       "      <td>220.5</td>\n",
       "      <td>3.5</td>\n",
       "      <td>4.0</td>\n",
       "      <td>0.4</td>\n",
       "      <td>5.0</td>\n",
       "    </tr>\n",
       "    <tr>\n",
       "      <th>767</th>\n",
       "      <td>0.62</td>\n",
       "      <td>808.5</td>\n",
       "      <td>367.5</td>\n",
       "      <td>220.5</td>\n",
       "      <td>3.5</td>\n",
       "      <td>5.0</td>\n",
       "      <td>0.4</td>\n",
       "      <td>5.0</td>\n",
       "    </tr>\n",
       "  </tbody>\n",
       "</table>\n",
       "</div>"
      ],
      "text/plain": [
       "       X1     X2     X3     X4   X5   X6   X7   X8\n",
       "763  0.64  784.0  343.0  220.5  3.5  5.0  0.4  5.0\n",
       "764  0.62  808.5  367.5  220.5  3.5  2.0  0.4  5.0\n",
       "765  0.62  808.5  367.5  220.5  3.5  3.0  0.4  5.0\n",
       "766  0.62  808.5  367.5  220.5  3.5  4.0  0.4  5.0\n",
       "767  0.62  808.5  367.5  220.5  3.5  5.0  0.4  5.0"
      ]
     },
     "execution_count": 77,
     "metadata": {},
     "output_type": "execute_result"
    }
   ],
   "source": [
    "X.tail()"
   ]
  },
  {
   "cell_type": "code",
   "execution_count": 78,
   "metadata": {},
   "outputs": [
    {
     "data": {
      "text/plain": [
       "X1    float64\n",
       "X2    float64\n",
       "X3    float64\n",
       "X4    float64\n",
       "X5    float64\n",
       "X6    float64\n",
       "X7    float64\n",
       "X8    float64\n",
       "dtype: object"
      ]
     },
     "execution_count": 78,
     "metadata": {},
     "output_type": "execute_result"
    }
   ],
   "source": [
    "X.dtypes"
   ]
  },
  {
   "cell_type": "code",
   "execution_count": 79,
   "metadata": {
    "collapsed": true
   },
   "outputs": [],
   "source": [
    "#split\n",
    "from sklearn.model_selection import train_test_split\n",
    "X_train, X_test, y_train, y_test = train_test_split(X,y)"
   ]
  },
  {
   "cell_type": "code",
   "execution_count": 80,
   "metadata": {
    "collapsed": true
   },
   "outputs": [],
   "source": [
    "#select and instantiate model\n",
    "from sklearn.linear_model import LinearRegression\n",
    "linreg = LinearRegression() "
   ]
  },
  {
   "cell_type": "code",
   "execution_count": 81,
   "metadata": {},
   "outputs": [
    {
     "data": {
      "text/plain": [
       "LinearRegression(copy_X=True, fit_intercept=True, n_jobs=1, normalize=False)"
      ]
     },
     "execution_count": 81,
     "metadata": {},
     "output_type": "execute_result"
    }
   ],
   "source": [
    "#fit\n",
    "linreg.fit(X_train, y_train)"
   ]
  },
  {
   "cell_type": "code",
   "execution_count": 82,
   "metadata": {
    "collapsed": true
   },
   "outputs": [],
   "source": [
    "#predict\n",
    "y_pred = linreg.predict(X_test)"
   ]
  },
  {
   "cell_type": "code",
   "execution_count": 83,
   "metadata": {},
   "outputs": [
    {
     "name": "stdout",
     "output_type": "stream",
     "text": [
      "3.00185652169\n"
     ]
    }
   ],
   "source": [
    "from sklearn import metrics\n",
    "import numpy as np\n",
    "\n",
    "print(np.sqrt(metrics.mean_squared_error(y_test, y_pred)))"
   ]
  },
  {
   "cell_type": "code",
   "execution_count": 84,
   "metadata": {},
   "outputs": [
    {
     "name": "stdout",
     "output_type": "stream",
     "text": [
      "       X1     X2     X3      X4   X5   X6   X7   X8\n",
      "4    0.90  563.5  318.5  122.50  7.0  2.0  0.0  0.0\n",
      "6    0.90  563.5  318.5  122.50  7.0  4.0  0.0  0.0\n",
      "14   0.82  612.5  318.5  147.00  7.0  4.0  0.0  0.0\n",
      "15   0.82  612.5  318.5  147.00  7.0  5.0  0.0  0.0\n",
      "18   0.79  637.0  343.0  147.00  7.0  4.0  0.0  0.0\n",
      "27   0.74  686.0  245.0  220.50  3.5  5.0  0.0  0.0\n",
      "30   0.71  710.5  269.5  220.50  3.5  4.0  0.0  0.0\n",
      "36   0.66  759.5  318.5  220.50  3.5  2.0  0.0  0.0\n",
      "37   0.66  759.5  318.5  220.50  3.5  3.0  0.0  0.0\n",
      "38   0.66  759.5  318.5  220.50  3.5  4.0  0.0  0.0\n",
      "47   0.62  808.5  367.5  220.50  3.5  5.0  0.0  0.0\n",
      "50   0.98  514.5  294.0  110.25  7.0  4.0  0.1  1.0\n",
      "58   0.86  588.0  294.0  147.00  7.0  4.0  0.1  1.0\n",
      "70   0.76  661.5  416.5  122.50  7.0  4.0  0.1  1.0\n",
      "72   0.74  686.0  245.0  220.50  3.5  2.0  0.1  1.0\n",
      "78   0.71  710.5  269.5  220.50  3.5  4.0  0.1  1.0\n",
      "86   0.66  759.5  318.5  220.50  3.5  4.0  0.1  1.0\n",
      "92   0.62  808.5  367.5  220.50  3.5  2.0  0.1  1.0\n",
      "101  0.90  563.5  318.5  122.50  7.0  3.0  0.1  2.0\n",
      "106  0.86  588.0  294.0  147.00  7.0  4.0  0.1  2.0\n",
      "116  0.76  661.5  416.5  122.50  7.0  2.0  0.1  2.0\n",
      "118  0.76  661.5  416.5  122.50  7.0  4.0  0.1  2.0\n",
      "122  0.74  686.0  245.0  220.50  3.5  4.0  0.1  2.0\n",
      "124  0.71  710.5  269.5  220.50  3.5  2.0  0.1  2.0\n",
      "128  0.69  735.0  294.0  220.50  3.5  2.0  0.1  2.0\n",
      "130  0.69  735.0  294.0  220.50  3.5  4.0  0.1  2.0\n",
      "140  0.62  808.5  367.5  220.50  3.5  2.0  0.1  2.0\n",
      "142  0.62  808.5  367.5  220.50  3.5  4.0  0.1  2.0\n",
      "145  0.98  514.5  294.0  110.25  7.0  3.0  0.1  3.0\n",
      "149  0.90  563.5  318.5  122.50  7.0  3.0  0.1  3.0\n",
      "..    ...    ...    ...     ...  ...  ...  ...  ...\n",
      "660  0.66  759.5  318.5  220.50  3.5  2.0  0.4  3.0\n",
      "666  0.64  784.0  343.0  220.50  3.5  4.0  0.4  3.0\n",
      "670  0.62  808.5  367.5  220.50  3.5  4.0  0.4  3.0\n",
      "676  0.90  563.5  318.5  122.50  7.0  2.0  0.4  4.0\n",
      "682  0.86  588.0  294.0  147.00  7.0  4.0  0.4  4.0\n",
      "683  0.86  588.0  294.0  147.00  7.0  5.0  0.4  4.0\n",
      "685  0.82  612.5  318.5  147.00  7.0  3.0  0.4  4.0\n",
      "697  0.74  686.0  245.0  220.50  3.5  3.0  0.4  4.0\n",
      "702  0.71  710.5  269.5  220.50  3.5  4.0  0.4  4.0\n",
      "703  0.71  710.5  269.5  220.50  3.5  5.0  0.4  4.0\n",
      "706  0.69  735.0  294.0  220.50  3.5  4.0  0.4  4.0\n",
      "707  0.69  735.0  294.0  220.50  3.5  5.0  0.4  4.0\n",
      "708  0.66  759.5  318.5  220.50  3.5  2.0  0.4  4.0\n",
      "712  0.64  784.0  343.0  220.50  3.5  2.0  0.4  4.0\n",
      "713  0.64  784.0  343.0  220.50  3.5  3.0  0.4  4.0\n",
      "716  0.62  808.5  367.5  220.50  3.5  2.0  0.4  4.0\n",
      "718  0.62  808.5  367.5  220.50  3.5  4.0  0.4  4.0\n",
      "723  0.98  514.5  294.0  110.25  7.0  5.0  0.4  5.0\n",
      "725  0.90  563.5  318.5  122.50  7.0  3.0  0.4  5.0\n",
      "727  0.90  563.5  318.5  122.50  7.0  5.0  0.4  5.0\n",
      "731  0.86  588.0  294.0  147.00  7.0  5.0  0.4  5.0\n",
      "734  0.82  612.5  318.5  147.00  7.0  4.0  0.4  5.0\n",
      "735  0.82  612.5  318.5  147.00  7.0  5.0  0.4  5.0\n",
      "741  0.76  661.5  416.5  122.50  7.0  3.0  0.4  5.0\n",
      "742  0.76  661.5  416.5  122.50  7.0  4.0  0.4  5.0\n",
      "747  0.74  686.0  245.0  220.50  3.5  5.0  0.4  5.0\n",
      "750  0.71  710.5  269.5  220.50  3.5  4.0  0.4  5.0\n",
      "753  0.69  735.0  294.0  220.50  3.5  3.0  0.4  5.0\n",
      "760  0.64  784.0  343.0  220.50  3.5  2.0  0.4  5.0\n",
      "767  0.62  808.5  367.5  220.50  3.5  5.0  0.4  5.0\n",
      "\n",
      "[192 rows x 8 columns]\n"
     ]
    }
   ],
   "source": [
    "#Let's test it out with out of sample data \n",
    "print(X_test.sort_index())"
   ]
  },
  {
   "cell_type": "code",
   "execution_count": 85,
   "metadata": {
    "collapsed": true
   },
   "outputs": [],
   "source": [
    "#we see how row 0 from the X dataframe was not in the sample, so let's use that\n",
    "#type(X.loc[0])\n",
    "X_new = pd.DataFrame(data = [X.loc[0]])"
   ]
  },
  {
   "cell_type": "code",
   "execution_count": 86,
   "metadata": {},
   "outputs": [
    {
     "name": "stdout",
     "output_type": "stream",
     "text": [
      "[ 25.64613606]\n"
     ]
    }
   ],
   "source": [
    "#predict y for X_new - expected value of y_pred(i.e Y2[0] from original data set = 21.33)\n",
    "y_pred = linreg.predict(X_new)\n",
    "print(y_pred)"
   ]
  },
  {
   "cell_type": "code",
   "execution_count": null,
   "metadata": {
    "collapsed": true
   },
   "outputs": [],
   "source": []
  },
  {
   "cell_type": "code",
   "execution_count": null,
   "metadata": {
    "collapsed": true
   },
   "outputs": [],
   "source": []
  }
 ],
 "metadata": {
  "kernelspec": {
   "display_name": "Python 3",
   "language": "python",
   "name": "python3"
  },
  "language_info": {
   "codemirror_mode": {
    "name": "ipython",
    "version": 3
   },
   "file_extension": ".py",
   "mimetype": "text/x-python",
   "name": "python",
   "nbconvert_exporter": "python",
   "pygments_lexer": "ipython3",
   "version": "3.6.1"
  }
 },
 "nbformat": 4,
 "nbformat_minor": 2
}
