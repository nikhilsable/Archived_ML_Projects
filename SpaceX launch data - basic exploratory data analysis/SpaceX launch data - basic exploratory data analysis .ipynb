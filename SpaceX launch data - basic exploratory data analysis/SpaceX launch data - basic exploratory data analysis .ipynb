{
 "cells": [
  {
   "cell_type": "code",
   "execution_count": 1,
   "metadata": {
    "collapsed": true
   },
   "outputs": [],
   "source": [
    "import pandas as pd #importing the Pandas module/library\n",
    "#from altair import Chart, X, Y, Axis, SortField"
   ]
  },
  {
   "cell_type": "code",
   "execution_count": 2,
   "metadata": {
    "collapsed": true
   },
   "outputs": [],
   "source": [
    "df = pd.read_csv('spacexdb.csv') #reading in/loading the dataset for Space X launches"
   ]
  },
  {
   "cell_type": "markdown",
   "metadata": {},
   "source": [
    "#### <font color='green'>Let's trim our dataset to create a smaller set consisting of only successful launches</h4></font>"
   ]
  },
  {
   "cell_type": "code",
   "execution_count": 3,
   "metadata": {
    "collapsed": true
   },
   "outputs": [],
   "source": [
    "SuccessfulMissions = df.loc[df[\"Mission Outcome\"] == \"Success\"]"
   ]
  },
  {
   "cell_type": "markdown",
   "metadata": {},
   "source": [
    "<h4><font color='green'>Similarly, let's create a dataset consisting of only failed launches</h4></font>"
   ]
  },
  {
   "cell_type": "code",
   "execution_count": 4,
   "metadata": {
    "collapsed": true
   },
   "outputs": [],
   "source": [
    "FailedMissions = df.loc[df[\"Mission Outcome\"] == \"Failure\"]"
   ]
  },
  {
   "cell_type": "markdown",
   "metadata": {},
   "source": [
    "#### <font color='green'>Let's calculate the ratio of successfull launches to unsuccessfull launches</h4></font>"
   ]
  },
  {
   "cell_type": "code",
   "execution_count": 5,
   "metadata": {},
   "outputs": [
    {
     "data": {
      "text/plain": [
       "4.125"
      ]
     },
     "execution_count": 5,
     "metadata": {},
     "output_type": "execute_result"
    }
   ],
   "source": [
    "len(SuccessfulMissions.index)/len(FailedMissions.index)"
   ]
  },
  {
   "cell_type": "markdown",
   "metadata": {},
   "source": [
    "### <font color=\"red\">This implies: For every 4 successful launches, there was 1 failed launch</font>"
   ]
  },
  {
   "cell_type": "markdown",
   "metadata": {},
   "source": [
    "### <font color=\"green\"> Which vehicle type had the most successful missions? </font>"
   ]
  },
  {
   "cell_type": "code",
   "execution_count": 6,
   "metadata": {},
   "outputs": [
    {
     "data": {
      "text/plain": [
       "Falcon 9 (v1.1)                15\n",
       "Falcon 9 Full Thrust (v1.2)    11\n",
       "Falcon 9 (v1.0)                 5\n",
       "Falcon 1                        2\n",
       "Name: Vehicle Type, dtype: int64"
      ]
     },
     "execution_count": 6,
     "metadata": {},
     "output_type": "execute_result"
    }
   ],
   "source": [
    "SuccessfulMissions[\"Vehicle Type\"].value_counts()"
   ]
  },
  {
   "cell_type": "markdown",
   "metadata": {},
   "source": [
    "### <font color=\"red\"> Which vehicle type had the most unsuccessful missions?  </font>"
   ]
  },
  {
   "cell_type": "code",
   "execution_count": 7,
   "metadata": {},
   "outputs": [
    {
     "data": {
      "text/plain": [
       "Falcon 1                       5\n",
       "Falcon 9 Full Thrust (v1.2)    1\n",
       "Falcon 9 (v1.1)                1\n",
       "Falcon 9 (v1.0)                1\n",
       "Name: Vehicle Type, dtype: int64"
      ]
     },
     "execution_count": 7,
     "metadata": {},
     "output_type": "execute_result"
    }
   ],
   "source": [
    "FailedMissions[\"Vehicle Type\"].value_counts()"
   ]
  },
  {
   "cell_type": "markdown",
   "metadata": {},
   "source": [
    "### <font color=\"green\"> Which payload type had the most successful missions? </font>"
   ]
  },
  {
   "cell_type": "code",
   "execution_count": 8,
   "metadata": {},
   "outputs": [
    {
     "data": {
      "text/plain": [
       "Communication Satellite             16\n",
       "Space Station Supplies              11\n",
       "Weather Satellite                    3\n",
       "Communication/Research Satellite     1\n",
       "Name: Payload Type, dtype: int64"
      ]
     },
     "execution_count": 8,
     "metadata": {},
     "output_type": "execute_result"
    }
   ],
   "source": [
    "SuccessfulMissions[\"Payload Type\"].value_counts()"
   ]
  },
  {
   "cell_type": "markdown",
   "metadata": {},
   "source": [
    "### <font color=\"red\"> Which payload type had the most unsuccessful missions?  </font>"
   ]
  },
  {
   "cell_type": "code",
   "execution_count": 9,
   "metadata": {},
   "outputs": [
    {
     "data": {
      "text/plain": [
       "Communication Satellite    3\n",
       "Space Station Supplies     1\n",
       "Research Satellite         1\n",
       "Research Satellites        1\n",
       "Human Remains              1\n",
       "Name: Payload Type, dtype: int64"
      ]
     },
     "execution_count": 9,
     "metadata": {},
     "output_type": "execute_result"
    }
   ],
   "source": [
    "FailedMissions[\"Payload Type\"].value_counts()"
   ]
  },
  {
   "cell_type": "markdown",
   "metadata": {},
   "source": [
    "<font color=\"Blue\">I noticed how Communication satellites were on the leaderboard for for the most successfull and unsucessful payload types. Was this just because they had more launches as opposed to other types? Something else?</font>"
   ]
  },
  {
   "cell_type": "code",
   "execution_count": 10,
   "metadata": {},
   "outputs": [
    {
     "data": {
      "text/plain": [
       "Communication Satellite             19\n",
       "Space Station Supplies              12\n",
       "Weather Satellite                    3\n",
       "Research Satellite                   1\n",
       "Research Satellites                  1\n",
       "Communication/Research Satellite     1\n",
       "Human Remains                        1\n",
       "Name: Payload Type, dtype: int64"
      ]
     },
     "execution_count": 10,
     "metadata": {},
     "output_type": "execute_result"
    }
   ],
   "source": [
    "df[\"Payload Type\"].value_counts()"
   ]
  },
  {
   "cell_type": "markdown",
   "metadata": {},
   "source": [
    "As suspected, they (Communication satellites) made up for a little less than 50% of the total launches in the dataset(total = 41). We just have more data on them, not that they are equally successfull or unsuccessful. "
   ]
  },
  {
   "cell_type": "markdown",
   "metadata": {},
   "source": [
    "<font color=\"Blue\"> Now, let's try depicting the success/failure data based on Customer Type, Customer Country, Payload Mass, Launch Site, etc. using visulizations. </font>"
   ]
  },
  {
   "cell_type": "code",
   "execution_count": 39,
   "metadata": {
    "collapsed": true
   },
   "outputs": [],
   "source": [
    "from altair import *"
   ]
  },
  {
   "cell_type": "code",
   "execution_count": 40,
   "metadata": {},
   "outputs": [
    {
     "data": {
      "text/plain": [
       "pandas.core.series.Series"
      ]
     },
     "execution_count": 40,
     "metadata": {},
     "output_type": "execute_result"
    }
   ],
   "source": [
    "type(SuccessfulMissions[\"Customer Type\"].value_counts())"
   ]
  },
  {
   "cell_type": "code",
   "execution_count": 41,
   "metadata": {},
   "outputs": [
    {
     "data": {
      "text/plain": [
       "Business      16\n",
       "Government    15\n",
       "Name: Customer Type, dtype: int64"
      ]
     },
     "execution_count": 41,
     "metadata": {},
     "output_type": "execute_result"
    }
   ],
   "source": [
    "SuccessfulMissions[\"Customer Type\"].value_counts()"
   ]
  },
  {
   "cell_type": "code",
   "execution_count": 46,
   "metadata": {},
   "outputs": [
    {
     "data": {
      "text/html": [
       "<div class=\"vega-embed\" id=\"28bfd968-d7c1-4061-91c6-59cd2c3002d9\"></div>\n",
       "\n",
       "<style>\n",
       ".vega-embed svg, .vega-embed canvas {\n",
       "  border: 1px dotted gray;\n",
       "}\n",
       "\n",
       ".vega-embed .vega-actions a {\n",
       "  margin-right: 6px;\n",
       "}\n",
       "</style>\n"
      ]
     },
     "metadata": {
      "jupyter-vega": "#28bfd968-d7c1-4061-91c6-59cd2c3002d9"
     },
     "output_type": "display_data"
    },
    {
     "data": {
      "application/javascript": [
       "var spec = {\"config\": {\"cell\": {\"width\": 500, \"height\": 350}}, \"encoding\": {\"x\": {\"field\": \"Payload Mass (kg)\", \"type\": \"quantitative\"}, \"y\": {\"field\": \"Customer Country\", \"type\": \"nominal\"}}, \"mark\": \"bar\", \"data\": {\"values\": [{\"Flight Number\": \"F1-1\", \"Launch Date\": \"24 March 2006\", \"Launch Time\": \"22:30\", \"Launch Site\": \"Marshall Islands\", \"Vehicle Type\": \"Falcon 1\", \"Payload Name\": \"FalconSAT-2\", \"Payload Type\": \"Research Satellite\", \"Payload Mass (kg)\": 19.5, \"Payload Orbit\": null, \"Customer Name\": \"DARPA\", \"Customer Type\": \"Government\", \"Customer Country\": \"United States\", \"Mission Outcome\": \"Failure\", \"Failure Reason\": \"Engine Fire During Launch\", \"Landing Type\": null, \"Landing Outcome\": null}, {\"Flight Number\": \"F1-2\", \"Launch Date\": \"21 March 2007\", \"Launch Time\": \"01:10\", \"Launch Site\": \"Marshall Islands\", \"Vehicle Type\": \"Falcon 1\", \"Payload Name\": \"DemoSat\", \"Payload Type\": null, \"Payload Mass (kg)\": null, \"Payload Orbit\": null, \"Customer Name\": \"DARPA\", \"Customer Type\": \"Government\", \"Customer Country\": \"United States\", \"Mission Outcome\": \"Failure\", \"Failure Reason\": \"Engine Shutdown During Launch\", \"Landing Type\": null, \"Landing Outcome\": null}, {\"Flight Number\": \"F1-3\", \"Launch Date\": \"3 August 2008\", \"Launch Time\": \"03:34\", \"Launch Site\": \"Marshall Islands\", \"Vehicle Type\": \"Falcon 1\", \"Payload Name\": \"Trailblazer\", \"Payload Type\": \"Communication Satellite\", \"Payload Mass (kg)\": null, \"Payload Orbit\": null, \"Customer Name\": \"ORS\", \"Customer Type\": \"Government\", \"Customer Country\": \"United States\", \"Mission Outcome\": \"Failure\", \"Failure Reason\": \"Collision During Launch\", \"Landing Type\": null, \"Landing Outcome\": null}, {\"Flight Number\": \"F1-3\", \"Launch Date\": \"3 August 2008\", \"Launch Time\": \"03:34\", \"Launch Site\": \"Marshall Islands\", \"Vehicle Type\": \"Falcon 1\", \"Payload Name\": \"PRESat, NanoSail-D\", \"Payload Type\": \"Research Satellites\", \"Payload Mass (kg)\": 8.0, \"Payload Orbit\": null, \"Customer Name\": \"NASA\", \"Customer Type\": \"Government\", \"Customer Country\": \"United States\", \"Mission Outcome\": \"Failure\", \"Failure Reason\": \"Collision During Launch\", \"Landing Type\": null, \"Landing Outcome\": null}, {\"Flight Number\": \"F1-3\", \"Launch Date\": \"3 August 2008\", \"Launch Time\": \"03:34\", \"Launch Site\": \"Marshall Islands\", \"Vehicle Type\": \"Falcon 1\", \"Payload Name\": \"Explorers\", \"Payload Type\": \"Human Remains\", \"Payload Mass (kg)\": null, \"Payload Orbit\": null, \"Customer Name\": \"Celestis\", \"Customer Type\": \"Business\", \"Customer Country\": \"United States\", \"Mission Outcome\": \"Failure\", \"Failure Reason\": \"Collision During Launch\", \"Landing Type\": null, \"Landing Outcome\": null}, {\"Flight Number\": \"F1-4\", \"Launch Date\": \"28 September 2008\", \"Launch Time\": \"23:15\", \"Launch Site\": \"Marshall Islands\", \"Vehicle Type\": \"Falcon 1\", \"Payload Name\": \"RatSat (DemoSat)\", \"Payload Type\": null, \"Payload Mass (kg)\": 165.0, \"Payload Orbit\": \"Low Earth Orbit\", \"Customer Name\": null, \"Customer Type\": null, \"Customer Country\": null, \"Mission Outcome\": \"Success\", \"Failure Reason\": null, \"Landing Type\": null, \"Landing Outcome\": null}, {\"Flight Number\": \"F1-5\", \"Launch Date\": \"14 July 2009\", \"Launch Time\": \"03:35\", \"Launch Site\": \"Marshall Islands\", \"Vehicle Type\": \"Falcon 1\", \"Payload Name\": \"RazakSAT\", \"Payload Type\": \"Weather Satellite\", \"Payload Mass (kg)\": 180.0, \"Payload Orbit\": \"Low Earth Orbit\", \"Customer Name\": \"ATSB\", \"Customer Type\": \"Government\", \"Customer Country\": \"Malaysia\", \"Mission Outcome\": \"Success\", \"Failure Reason\": null, \"Landing Type\": null, \"Landing Outcome\": null}, {\"Flight Number\": \"F9-1\", \"Launch Date\": \"4 June 2010\", \"Launch Time\": \"18:45\", \"Launch Site\": \"Cape Canaveral AFS LC-40\", \"Vehicle Type\": \"Falcon 9 (v1.0)\", \"Payload Name\": \"Dragon Spacecraft Qualification Unit\", \"Payload Type\": null, \"Payload Mass (kg)\": null, \"Payload Orbit\": \"Low Earth Orbit\", \"Customer Name\": null, \"Customer Type\": null, \"Customer Country\": null, \"Mission Outcome\": \"Success\", \"Failure Reason\": null, \"Landing Type\": \"Parachute\", \"Landing Outcome\": \"Failure\"}, {\"Flight Number\": \"F9-2\", \"Launch Date\": \"8 December 2010\", \"Launch Time\": \"15:43\", \"Launch Site\": \"Cape Canaveral AFS LC-40\", \"Vehicle Type\": \"Falcon 9 (v1.0)\", \"Payload Name\": \"SpaceX CRS (Dragon C1)\", \"Payload Type\": \"Space Station Supplies\", \"Payload Mass (kg)\": null, \"Payload Orbit\": \"Low Earth Orbit\", \"Customer Name\": \"NASA\", \"Customer Type\": \"Government\", \"Customer Country\": \"United States\", \"Mission Outcome\": \"Success\", \"Failure Reason\": null, \"Landing Type\": \"Parachute\", \"Landing Outcome\": \"Failure\"}, {\"Flight Number\": \"F9-3\", \"Launch Date\": \"22 May 2012\", \"Launch Time\": \"07:44\", \"Launch Site\": \"Cape Canaveral AFS LC-40\", \"Vehicle Type\": \"Falcon 9 (v1.0)\", \"Payload Name\": \"SpaceX CRS (Dragon C2+)\", \"Payload Type\": \"Space Station Supplies\", \"Payload Mass (kg)\": null, \"Payload Orbit\": \"Low Earth Orbit\", \"Customer Name\": \"NASA\", \"Customer Type\": \"Government\", \"Customer Country\": \"United States\", \"Mission Outcome\": \"Success\", \"Failure Reason\": null, \"Landing Type\": null, \"Landing Outcome\": null}, {\"Flight Number\": \"F9-4\", \"Launch Date\": \"8 October 2012\", \"Launch Time\": \"00:35\", \"Launch Site\": \"Cape Canaveral AFS LC-40\", \"Vehicle Type\": \"Falcon 9 (v1.0)\", \"Payload Name\": \"SpaceX CRS-1\", \"Payload Type\": \"Space Station Supplies\", \"Payload Mass (kg)\": 500.0, \"Payload Orbit\": \"Low Earth Orbit\", \"Customer Name\": \"NASA\", \"Customer Type\": \"Government\", \"Customer Country\": \"United States\", \"Mission Outcome\": \"Success\", \"Failure Reason\": null, \"Landing Type\": null, \"Landing Outcome\": null}, {\"Flight Number\": \"F9-4\", \"Launch Date\": \"8 October 2012\", \"Launch Time\": \"00:35\", \"Launch Site\": \"Cape Canaveral AFS LC-40\", \"Vehicle Type\": \"Falcon 9 (v1.0)\", \"Payload Name\": \"Orbcomm-OG2\", \"Payload Type\": \"Communication Satellite\", \"Payload Mass (kg)\": 150.0, \"Payload Orbit\": \"Low Earth Orbit\", \"Customer Name\": \"Orbcomm\", \"Customer Type\": \"Business\", \"Customer Country\": \"United States\", \"Mission Outcome\": \"Failure\", \"Failure Reason\": \"Engine Failure During Flight\", \"Landing Type\": null, \"Landing Outcome\": null}, {\"Flight Number\": \"F9-5\", \"Launch Date\": \"1 March 2013\", \"Launch Time\": \"15:10\", \"Launch Site\": \"Cape Canaveral AFS LC-40\", \"Vehicle Type\": \"Falcon 9 (v1.0)\", \"Payload Name\": \"SpaceX CRS-2\", \"Payload Type\": \"Space Station Supplies\", \"Payload Mass (kg)\": 677.0, \"Payload Orbit\": \"Low Earth Orbit\", \"Customer Name\": \"NASA\", \"Customer Type\": \"Government\", \"Customer Country\": \"United States\", \"Mission Outcome\": \"Success\", \"Failure Reason\": null, \"Landing Type\": null, \"Landing Outcome\": null}, {\"Flight Number\": \"F9-6\", \"Launch Date\": \"29 September 2013\", \"Launch Time\": \"16:00\", \"Launch Site\": \"Vandenberg AFB SLC-4E\", \"Vehicle Type\": \"Falcon 9 (v1.1)\", \"Payload Name\": \"CASSIOPE\", \"Payload Type\": \"Communication/Research Satellite\", \"Payload Mass (kg)\": 500.0, \"Payload Orbit\": \"Polar Orbit\", \"Customer Name\": \"MDA Corp\", \"Customer Type\": \"Business\", \"Customer Country\": \"Canada\", \"Mission Outcome\": \"Success\", \"Failure Reason\": null, \"Landing Type\": \"Ocean\", \"Landing Outcome\": \"Failure\"}, {\"Flight Number\": \"F9-7\", \"Launch Date\": \"3 December 2013\", \"Launch Time\": \"22:41\", \"Launch Site\": \"Cape Canaveral AFS LC-40\", \"Vehicle Type\": \"Falcon 9 (v1.1)\", \"Payload Name\": \"SES-8\", \"Payload Type\": \"Communication Satellite\", \"Payload Mass (kg)\": 3170.0, \"Payload Orbit\": \"Geostationary Transfer Orbit\", \"Customer Name\": \"SES\", \"Customer Type\": \"Business\", \"Customer Country\": \"Luxembourg\", \"Mission Outcome\": \"Success\", \"Failure Reason\": null, \"Landing Type\": \"None\", \"Landing Outcome\": null}, {\"Flight Number\": \"F9-8\", \"Launch Date\": \"6 December 2014\", \"Launch Time\": \"22:06\", \"Launch Site\": \"Cape Canaveral AFS LC-40\", \"Vehicle Type\": \"Falcon 9 (v1.1)\", \"Payload Name\": \"Thaicom 6\", \"Payload Type\": \"Communication Satellite\", \"Payload Mass (kg)\": 3325.0, \"Payload Orbit\": \"Geostationary Transfer Orbit\", \"Customer Name\": \"Thaicom\", \"Customer Type\": \"Business\", \"Customer Country\": \"Thailand\", \"Mission Outcome\": \"Success\", \"Failure Reason\": null, \"Landing Type\": \"None\", \"Landing Outcome\": null}, {\"Flight Number\": \"F9-9\", \"Launch Date\": \"18 April 2014\", \"Launch Time\": \"19:25\", \"Launch Site\": \"Cape Canaveral AFS LC-40\", \"Vehicle Type\": \"Falcon 9 (v1.1)\", \"Payload Name\": \"SpaceX CRS-3\", \"Payload Type\": \"Space Station Supplies\", \"Payload Mass (kg)\": 2296.0, \"Payload Orbit\": \"Low Earth Orbit\", \"Customer Name\": \"NASA\", \"Customer Type\": \"Government\", \"Customer Country\": \"United States\", \"Mission Outcome\": \"Success\", \"Failure Reason\": null, \"Landing Type\": \"Ocean\", \"Landing Outcome\": \"Success\"}, {\"Flight Number\": \"F9-10\", \"Launch Date\": \"14 July 2014\", \"Launch Time\": \"15:15\", \"Launch Site\": \"Cape Canaveral AFS LC-40\", \"Vehicle Type\": \"Falcon 9 (v1.1)\", \"Payload Name\": \"OG2 Mission 1 (6 OG2 Satellites)\", \"Payload Type\": \"Communication Satellite\", \"Payload Mass (kg)\": null, \"Payload Orbit\": \"Low Earth Orbit\", \"Customer Name\": \"Orbcomm\", \"Customer Type\": \"Business\", \"Customer Country\": \"United States\", \"Mission Outcome\": \"Success\", \"Failure Reason\": null, \"Landing Type\": \"Ocean\", \"Landing Outcome\": \"Success\"}, {\"Flight Number\": \"F9-11\", \"Launch Date\": \"5 August 2014\", \"Launch Time\": \"08:00\", \"Launch Site\": \"Cape Canaveral AFS LC-40\", \"Vehicle Type\": \"Falcon 9 (v1.1)\", \"Payload Name\": \"AsiaSat 8\", \"Payload Type\": \"Communication Satellite\", \"Payload Mass (kg)\": 4535.0, \"Payload Orbit\": \"Geostationary Transfer Orbit\", \"Customer Name\": \"AsiaSat\", \"Customer Type\": \"Business\", \"Customer Country\": \"China\", \"Mission Outcome\": \"Success\", \"Failure Reason\": null, \"Landing Type\": \"None\", \"Landing Outcome\": null}, {\"Flight Number\": \"F9-12\", \"Launch Date\": \"7 September 2014\", \"Launch Time\": \"05:00\", \"Launch Site\": \"Cape Canaveral AFS LC-40\", \"Vehicle Type\": \"Falcon 9 (v1.1)\", \"Payload Name\": \"AsiaSat 6\", \"Payload Type\": \"Communication Satellite\", \"Payload Mass (kg)\": 4428.0, \"Payload Orbit\": \"Geostationary Transfer Orbit\", \"Customer Name\": \"AsiaSat\", \"Customer Type\": \"Business\", \"Customer Country\": \"China\", \"Mission Outcome\": \"Success\", \"Failure Reason\": null, \"Landing Type\": \"None\", \"Landing Outcome\": null}, {\"Flight Number\": \"F9-13\", \"Launch Date\": \"21 September 2014\", \"Launch Time\": \"05:52\", \"Launch Site\": \"Cape Canaveral AFS LC-40\", \"Vehicle Type\": \"Falcon 9 (v1.1)\", \"Payload Name\": \"SpaceX CRS-4\", \"Payload Type\": \"Space Station Supplies\", \"Payload Mass (kg)\": 2216.0, \"Payload Orbit\": \"Geostationary Transfer Orbit\", \"Customer Name\": \"NASA\", \"Customer Type\": \"Government\", \"Customer Country\": \"United States\", \"Mission Outcome\": \"Success\", \"Failure Reason\": null, \"Landing Type\": \"Ocean\", \"Landing Outcome\": \"Success\"}, {\"Flight Number\": \"F9-14\", \"Launch Date\": \"10 January 2015\", \"Launch Time\": \"09:47\", \"Launch Site\": \"Cape Canaveral AFS LC-40\", \"Vehicle Type\": \"Falcon 9 (v1.1)\", \"Payload Name\": \"SpaceX CRS-5\", \"Payload Type\": \"Space Station Supplies\", \"Payload Mass (kg)\": 2395.0, \"Payload Orbit\": \"Low Earth Orbit\", \"Customer Name\": \"NASA\", \"Customer Type\": \"Government\", \"Customer Country\": \"United States\", \"Mission Outcome\": \"Success\", \"Failure Reason\": null, \"Landing Type\": \"Ship\", \"Landing Outcome\": \"Failure\"}, {\"Flight Number\": \"F9-15\", \"Launch Date\": \"11 February 2015\", \"Launch Time\": \"23:03\", \"Launch Site\": \"Cape Canaveral AFS LC-40\", \"Vehicle Type\": \"Falcon 9 (v1.1)\", \"Payload Name\": \"DSCOVR\", \"Payload Type\": \"Weather Satellite\", \"Payload Mass (kg)\": 570.0, \"Payload Orbit\": \"Sun/Earth Orbit\", \"Customer Name\": \"US Air Force; NASA; NOAA\", \"Customer Type\": \"Government\", \"Customer Country\": \"United States\", \"Mission Outcome\": \"Success\", \"Failure Reason\": null, \"Landing Type\": \"Ocean\", \"Landing Outcome\": \"Success\"}, {\"Flight Number\": \"F9-16\", \"Launch Date\": \"2 March 2015\", \"Launch Time\": \"03:50\", \"Launch Site\": \"Cape Canaveral AFS LC-40\", \"Vehicle Type\": \"Falcon 9 (v1.1)\", \"Payload Name\": \"ABS-3A\", \"Payload Type\": \"Communication Satellite\", \"Payload Mass (kg)\": 4159.0, \"Payload Orbit\": \"Geostationary Transfer Orbit\", \"Customer Name\": \"Asia Broadcast Satellite\", \"Customer Type\": \"Business\", \"Customer Country\": \"Bermuda\", \"Mission Outcome\": \"Success\", \"Failure Reason\": null, \"Landing Type\": \"None\", \"Landing Outcome\": null}, {\"Flight Number\": \"F9-16\", \"Launch Date\": \"2 March 2015\", \"Launch Time\": \"03:50\", \"Launch Site\": \"Cape Canaveral AFS LC-40\", \"Vehicle Type\": \"Falcon 9 (v1.1)\", \"Payload Name\": \"Eutelsat 115 West B (Satmex 7)\", \"Payload Type\": \"Communication Satellite\", \"Payload Mass (kg)\": 4159.0, \"Payload Orbit\": \"Geostationary Transfer Orbit\", \"Customer Name\": \"Eutelsat (Satmex)\", \"Customer Type\": \"Business\", \"Customer Country\": \"France (Mexico)\", \"Mission Outcome\": \"Success\", \"Failure Reason\": null, \"Landing Type\": \"None\", \"Landing Outcome\": null}, {\"Flight Number\": \"F9-17\", \"Launch Date\": \"14 April 2015\", \"Launch Time\": \"20:10\", \"Launch Site\": \"Cape Canaveral AFS LC-40\", \"Vehicle Type\": \"Falcon 9 (v1.1)\", \"Payload Name\": \"SpaceX CRS-6\", \"Payload Type\": \"Space Station Supplies\", \"Payload Mass (kg)\": 1898.0, \"Payload Orbit\": \"Low Earth Orbit\", \"Customer Name\": \"NASA\", \"Customer Type\": \"Government\", \"Customer Country\": \"United States\", \"Mission Outcome\": \"Success\", \"Failure Reason\": null, \"Landing Type\": \"Ship\", \"Landing Outcome\": \"Failure\"}, {\"Flight Number\": \"F9-18\", \"Launch Date\": \"27 April 2015\", \"Launch Time\": \"23:03\", \"Launch Site\": \"Cape Canaveral AFS LC-40\", \"Vehicle Type\": \"Falcon 9 (v1.1)\", \"Payload Name\": \"TurkmenAlem 52E/MonacoSAT\", \"Payload Type\": \"Communication Satellite\", \"Payload Mass (kg)\": 4707.0, \"Payload Orbit\": \"Geostationary Transfer Orbit\", \"Customer Name\": \"Turkmenistan NSA\", \"Customer Type\": \"Government\", \"Customer Country\": \"Turkmenistan\", \"Mission Outcome\": \"Success\", \"Failure Reason\": null, \"Landing Type\": \"None\", \"Landing Outcome\": null}, {\"Flight Number\": \"F9-19\", \"Launch Date\": \"28 June 2015\", \"Launch Time\": \"14:21\", \"Launch Site\": \"Cape Canaveral AFS LC-40\", \"Vehicle Type\": \"Falcon 9 (v1.1)\", \"Payload Name\": \"SpaceX CRS-7\", \"Payload Type\": \"Space Station Supplies\", \"Payload Mass (kg)\": 1952.0, \"Payload Orbit\": \"Low Earth Orbit\", \"Customer Name\": \"NASA\", \"Customer Type\": \"Government\", \"Customer Country\": \"United States\", \"Mission Outcome\": \"Failure\", \"Failure Reason\": \"Vehicle Explosion During Flight\", \"Landing Type\": null, \"Landing Outcome\": null}, {\"Flight Number\": \"FT-1\", \"Launch Date\": \"22 December 2015\", \"Launch Time\": \"01:29\", \"Launch Site\": \"Cape Canaveral AFS LC-40\", \"Vehicle Type\": \"Falcon 9 Full Thrust (v1.2)\", \"Payload Name\": \"OG2 Mission 2 (11 OG2 Satellites)\", \"Payload Type\": \"Communication Satellite\", \"Payload Mass (kg)\": null, \"Payload Orbit\": \"Low Earth Orbit\", \"Customer Name\": \"Orbcomm\", \"Customer Type\": \"Business\", \"Customer Country\": \"United States\", \"Mission Outcome\": \"Success\", \"Failure Reason\": null, \"Landing Type\": \"Land\", \"Landing Outcome\": \"Success\"}, {\"Flight Number\": \"F9-21\", \"Launch Date\": \"17 January 2016\", \"Launch Time\": \"18:42\", \"Launch Site\": \"Vandenberg AFB SLC-4E\", \"Vehicle Type\": \"Falcon 9 (v1.1)\", \"Payload Name\": \"Jason-3\", \"Payload Type\": \"Weather Satellite\", \"Payload Mass (kg)\": 553.0, \"Payload Orbit\": \"Low Earth Orbit\", \"Customer Name\": \"NASA; NOAA; CNES\", \"Customer Type\": \"Government\", \"Customer Country\": \"United States\", \"Mission Outcome\": \"Success\", \"Failure Reason\": null, \"Landing Type\": \"Ship\", \"Landing Outcome\": \"Failure\"}, {\"Flight Number\": \"FT-2\", \"Launch Date\": \"4 March 2016\", \"Launch Time\": \"23:35\", \"Launch Site\": \"Cape Canaveral AFS LC-40\", \"Vehicle Type\": \"Falcon 9 Full Thrust (v1.2)\", \"Payload Name\": \"SES-9\", \"Payload Type\": \"Communication Satellite\", \"Payload Mass (kg)\": 5271.0, \"Payload Orbit\": \"Geostationary Transfer Orbit\", \"Customer Name\": \"SES\", \"Customer Type\": \"Business\", \"Customer Country\": \"Luxembourg\", \"Mission Outcome\": \"Success\", \"Failure Reason\": null, \"Landing Type\": \"Ship\", \"Landing Outcome\": \"Failure\"}, {\"Flight Number\": \"FT-3\", \"Launch Date\": \"8 April 2016\", \"Launch Time\": \"20:43\", \"Launch Site\": \"Cape Canaveral AFS LC-40\", \"Vehicle Type\": \"Falcon 9 Full Thrust (v1.2)\", \"Payload Name\": \"SpaceX CRS-8\", \"Payload Type\": \"Space Station Supplies\", \"Payload Mass (kg)\": 3136.0, \"Payload Orbit\": \"Low Earth Orbit\", \"Customer Name\": \"NASA\", \"Customer Type\": \"Government\", \"Customer Country\": \"United States\", \"Mission Outcome\": \"Success\", \"Failure Reason\": null, \"Landing Type\": \"Ship\", \"Landing Outcome\": \"Success\"}, {\"Flight Number\": \"FT-4\", \"Launch Date\": \"6 May 2016\", \"Launch Time\": \"05:21\", \"Launch Site\": \"Cape Canaveral AFS LC-40\", \"Vehicle Type\": \"Falcon 9 Full Thrust (v1.2)\", \"Payload Name\": \"JCSAT-14\", \"Payload Type\": \"Communication Satellite\", \"Payload Mass (kg)\": 4696.0, \"Payload Orbit\": \"Geostationary Transfer Orbit\", \"Customer Name\": \"SKY Perfect JSAT Group\", \"Customer Type\": \"Business\", \"Customer Country\": \"Japan\", \"Mission Outcome\": \"Success\", \"Failure Reason\": null, \"Landing Type\": \"Ship\", \"Landing Outcome\": \"Success\"}, {\"Flight Number\": \"FT-5\", \"Launch Date\": \"27 May 2016\", \"Launch Time\": \"21:39\", \"Launch Site\": \"Cape Canaveral AFS LC-40\", \"Vehicle Type\": \"Falcon 9 Full Thrust (v1.2)\", \"Payload Name\": \"Thaicom 8\", \"Payload Type\": \"Communication Satellite\", \"Payload Mass (kg)\": 3100.0, \"Payload Orbit\": \"Geostationary Transfer Orbit\", \"Customer Name\": \"Thaicom\", \"Customer Type\": \"Business\", \"Customer Country\": \"Thailand\", \"Mission Outcome\": \"Success\", \"Failure Reason\": null, \"Landing Type\": \"Ship\", \"Landing Outcome\": \"Success\"}, {\"Flight Number\": \"FT-6\", \"Launch Date\": \"15 June 2016\", \"Launch Time\": \"14:29\", \"Launch Site\": \"Cape Canaveral AFS LC-40\", \"Vehicle Type\": \"Falcon 9 Full Thrust (v1.2)\", \"Payload Name\": \"ABS-2A\", \"Payload Type\": \"Communication Satellite\", \"Payload Mass (kg)\": 3600.0, \"Payload Orbit\": \"Geostationary Transfer Orbit\", \"Customer Name\": \"Asia Broadcast Satellite\", \"Customer Type\": \"Business\", \"Customer Country\": \"Bermuda\", \"Mission Outcome\": \"Success\", \"Failure Reason\": null, \"Landing Type\": \"Ship\", \"Landing Outcome\": \"Failure\"}, {\"Flight Number\": \"FT-6\", \"Launch Date\": \"15 June 2016\", \"Launch Time\": \"14:29\", \"Launch Site\": \"Cape Canaveral AFS LC-40\", \"Vehicle Type\": \"Falcon 9 Full Thrust (v1.2)\", \"Payload Name\": \"Eutelsat 117 West B (Satmex 9)\", \"Payload Type\": \"Communication Satellite\", \"Payload Mass (kg)\": 3600.0, \"Payload Orbit\": \"Geostationary Transfer Orbit\", \"Customer Name\": \"Eutelsat (Satmex)\", \"Customer Type\": \"Business\", \"Customer Country\": \"France (Mexico)\", \"Mission Outcome\": \"Success\", \"Failure Reason\": null, \"Landing Type\": \"Ship\", \"Landing Outcome\": \"Failure\"}, {\"Flight Number\": \"FT-7\", \"Launch Date\": \"18 July 2016\", \"Launch Time\": \"04:45\", \"Launch Site\": \"Cape Canaveral AFS LC-40\", \"Vehicle Type\": \"Falcon 9 Full Thrust (v1.2)\", \"Payload Name\": \"SpaceX CRS-9\", \"Payload Type\": \"Space Station Supplies\", \"Payload Mass (kg)\": 2257.0, \"Payload Orbit\": \"Low Earth Orbit\", \"Customer Name\": \"NASA\", \"Customer Type\": \"Government\", \"Customer Country\": \"United States\", \"Mission Outcome\": \"Success\", \"Failure Reason\": null, \"Landing Type\": \"Land\", \"Landing Outcome\": \"Success\"}, {\"Flight Number\": \"FT-8\", \"Launch Date\": \"14 August 2016\", \"Launch Time\": \"05:26\", \"Launch Site\": \"Cape Canaveral AFS LC-40\", \"Vehicle Type\": \"Falcon 9 Full Thrust (v1.2)\", \"Payload Name\": \"JCSAT-16\", \"Payload Type\": \"Communication Satellite\", \"Payload Mass (kg)\": 4600.0, \"Payload Orbit\": \"Geostationary Transfer Orbit\", \"Customer Name\": \"SKY Perfect JSAT Group\", \"Customer Type\": \"Business\", \"Customer Country\": \"Japan\", \"Mission Outcome\": \"Success\", \"Failure Reason\": null, \"Landing Type\": \"Ship\", \"Landing Outcome\": \"Success\"}, {\"Flight Number\": \"FT-9\", \"Launch Date\": \"1 September 2016\", \"Launch Time\": \"13:07\", \"Launch Site\": \"Cape Canaveral AFS LC-40\", \"Vehicle Type\": \"Falcon 9 Full Thrust (v1.2)\", \"Payload Name\": \"Amos-6\", \"Payload Type\": \"Communication Satellite\", \"Payload Mass (kg)\": 5500.0, \"Payload Orbit\": \"Geostationary Transfer Orbit\", \"Customer Name\": \"Spacecom\", \"Customer Type\": \"Business\", \"Customer Country\": \"Israel\", \"Mission Outcome\": \"Failure\", \"Failure Reason\": \"Vehicle Explosion Before Launch\", \"Landing Type\": null, \"Landing Outcome\": null}, {\"Flight Number\": \"FT-10\", \"Launch Date\": \"14 January 2017\", \"Launch Time\": \"17:54\", \"Launch Site\": \"Vandenberg AFB SLC-4E\", \"Vehicle Type\": \"Falcon 9 Full Thrust (v1.2)\", \"Payload Name\": \"Iridium NEXT 1-10\", \"Payload Type\": \"Communication Satellite\", \"Payload Mass (kg)\": 9600.0, \"Payload Orbit\": \"Low Earth Orbit\", \"Customer Name\": \"Iridium Communications\", \"Customer Type\": \"Business\", \"Customer Country\": \"United States\", \"Mission Outcome\": \"Success\", \"Failure Reason\": null, \"Landing Type\": \"Ship\", \"Landing Outcome\": \"Success\"}, {\"Flight Number\": \"FT-11\", \"Launch Date\": \"19 February 2017\", \"Launch Time\": \"14:39\", \"Launch Site\": \"Kennedy Space Center LC-39A\", \"Vehicle Type\": \"Falcon 9 Full Thrust (v1.2)\", \"Payload Name\": \"SpaceX CRS-10\", \"Payload Type\": \"Space Station Supplies\", \"Payload Mass (kg)\": 2490.0, \"Payload Orbit\": \"Low Earth Orbit\", \"Customer Name\": \"NASA\", \"Customer Type\": \"Government\", \"Customer Country\": \"United States\", \"Mission Outcome\": \"Success\", \"Failure Reason\": null, \"Landing Type\": \"Land\", \"Landing Outcome\": \"Success\"}]}};\n",
       "var selector = \"#28bfd968-d7c1-4061-91c6-59cd2c3002d9\";\n",
       "var type = \"vega-lite\";\n",
       "\n",
       "var output_area = this;\n",
       "require(['nbextensions/jupyter-vega/index'], function(vega) {\n",
       "  vega.render(selector, spec, type, output_area);\n",
       "}, function (err) {\n",
       "  if (err.requireType !== 'scripterror') {\n",
       "    throw(err);\n",
       "  }\n",
       "});\n"
      ]
     },
     "metadata": {
      "jupyter-vega": "#28bfd968-d7c1-4061-91c6-59cd2c3002d9"
     },
     "output_type": "display_data"
    },
    {
     "data": {
      "image/png": "[encoded data removed]"
     },
     "metadata": {
      "jupyter-vega": "#28bfd968-d7c1-4061-91c6-59cd2c3002d9"
     },
     "output_type": "display_data"
    }
   ],
   "source": [
    "Chart(df).mark_bar().encode(x='Payload Mass (kg)', y='Customer Country') #try plotting value counts"
   ]
  },
  {
   "cell_type": "code",
   "execution_count": 47,
   "metadata": {},
   "outputs": [
    {
     "data": {
      "text/html": [
       "<div>\n",
       "<style>\n",
       "    .dataframe thead tr:only-child th {\n",
       "        text-align: right;\n",
       "    }\n",
       "\n",
       "    .dataframe thead th {\n",
       "        text-align: left;\n",
       "    }\n",
       "\n",
       "    .dataframe tbody tr th {\n",
       "        vertical-align: top;\n",
       "    }\n",
       "</style>\n",
       "<table border=\"1\" class=\"dataframe\">\n",
       "  <thead>\n",
       "    <tr style=\"text-align: right;\">\n",
       "      <th></th>\n",
       "      <th>Flight Number</th>\n",
       "      <th>Launch Date</th>\n",
       "      <th>Launch Time</th>\n",
       "      <th>Launch Site</th>\n",
       "      <th>Vehicle Type</th>\n",
       "      <th>Payload Name</th>\n",
       "      <th>Payload Type</th>\n",
       "      <th>Payload Mass (kg)</th>\n",
       "      <th>Payload Orbit</th>\n",
       "      <th>Customer Name</th>\n",
       "      <th>Customer Type</th>\n",
       "      <th>Customer Country</th>\n",
       "      <th>Mission Outcome</th>\n",
       "      <th>Failure Reason</th>\n",
       "      <th>Landing Type</th>\n",
       "      <th>Landing Outcome</th>\n",
       "    </tr>\n",
       "  </thead>\n",
       "  <tbody>\n",
       "    <tr>\n",
       "      <th>0</th>\n",
       "      <td>F1-1</td>\n",
       "      <td>24 March 2006</td>\n",
       "      <td>22:30</td>\n",
       "      <td>Marshall Islands</td>\n",
       "      <td>Falcon 1</td>\n",
       "      <td>FalconSAT-2</td>\n",
       "      <td>Research Satellite</td>\n",
       "      <td>19.5</td>\n",
       "      <td>NaN</td>\n",
       "      <td>DARPA</td>\n",
       "      <td>Government</td>\n",
       "      <td>United States</td>\n",
       "      <td>Failure</td>\n",
       "      <td>Engine Fire During Launch</td>\n",
       "      <td>NaN</td>\n",
       "      <td>NaN</td>\n",
       "    </tr>\n",
       "    <tr>\n",
       "      <th>1</th>\n",
       "      <td>F1-2</td>\n",
       "      <td>21 March 2007</td>\n",
       "      <td>01:10</td>\n",
       "      <td>Marshall Islands</td>\n",
       "      <td>Falcon 1</td>\n",
       "      <td>DemoSat</td>\n",
       "      <td>NaN</td>\n",
       "      <td>NaN</td>\n",
       "      <td>NaN</td>\n",
       "      <td>DARPA</td>\n",
       "      <td>Government</td>\n",
       "      <td>United States</td>\n",
       "      <td>Failure</td>\n",
       "      <td>Engine Shutdown During Launch</td>\n",
       "      <td>NaN</td>\n",
       "      <td>NaN</td>\n",
       "    </tr>\n",
       "  </tbody>\n",
       "</table>\n",
       "</div>"
      ],
      "text/plain": [
       "  Flight Number    Launch Date Launch Time       Launch Site Vehicle Type  \\\n",
       "0          F1-1  24 March 2006       22:30  Marshall Islands     Falcon 1   \n",
       "1          F1-2  21 March 2007       01:10  Marshall Islands     Falcon 1   \n",
       "\n",
       "  Payload Name        Payload Type  Payload Mass (kg) Payload Orbit  \\\n",
       "0  FalconSAT-2  Research Satellite               19.5           NaN   \n",
       "1      DemoSat                 NaN                NaN           NaN   \n",
       "\n",
       "  Customer Name Customer Type Customer Country Mission Outcome  \\\n",
       "0         DARPA    Government    United States         Failure   \n",
       "1         DARPA    Government    United States         Failure   \n",
       "\n",
       "                  Failure Reason Landing Type Landing Outcome  \n",
       "0      Engine Fire During Launch          NaN             NaN  \n",
       "1  Engine Shutdown During Launch          NaN             NaN  "
      ]
     },
     "execution_count": 47,
     "metadata": {},
     "output_type": "execute_result"
    }
   ],
   "source": [
    "df.head(n=2)"
   ]
  },
  {
   "cell_type": "code",
   "execution_count": null,
   "metadata": {
    "collapsed": true
   },
   "outputs": [],
   "source": []
  }
 ],
 "metadata": {
  "celltoolbar": "Raw Cell Format",
  "kernelspec": {
   "display_name": "Python 3",
   "language": "python",
   "name": "python3"
  },
  "language_info": {
   "codemirror_mode": {
    "name": "ipython",
    "version": 3
   },
   "file_extension": ".py",
   "mimetype": "text/x-python",
   "name": "python",
   "nbconvert_exporter": "python",
   "pygments_lexer": "ipython3",
   "version": "3.6.1"
  }
 },
 "nbformat": 4,
 "nbformat_minor": 2
}
